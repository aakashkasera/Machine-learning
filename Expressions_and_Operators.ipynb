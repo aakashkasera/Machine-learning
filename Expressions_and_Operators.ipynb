{
  "nbformat": 4,
  "nbformat_minor": 0,
  "metadata": {
    "colab": {
      "name": "Expressions and Operators.ipynb",
      "provenance": [],
      "collapsed_sections": []
    },
    "kernelspec": {
      "name": "python3",
      "display_name": "Python 3"
    }
  },
  "cells": [
    {
      "cell_type": "markdown",
      "metadata": {
        "id": "Qka5yAm2IfYb",
        "colab_type": "text"
      },
      "source": [
        "Expressions, Operators, Control statements\n",
        "Operators\n",
        "Arithmetic (+, -, *, /, //, %)\n",
        "Relational (<, >, <=, >=, !=, ==)\n",
        "Shift (>>, <<)\n",
        "Assignment (=)\n",
        "Logical (and, or, not)\n",
        "Bitwise (&, |, !)\n",
        "'in' and 'not in' operator\n",
        "<< and >>\n",
        "if n=8 (1000 in binary), n>>1 will give 100 after shifting bits by 1 place to right. n<<1 will give 10000 after shifting bits by 1 place to left."
      ]
    },
    {
      "cell_type": "code",
      "metadata": {
        "id": "eQ9inqBRIhvw",
        "colab_type": "code",
        "outputId": "ee5a2215-1399-4564-f99a-89d286f18dad",
        "colab": {
          "base_uri": "https://localhost:8080/",
          "height": 67
        }
      },
      "source": [
        "n=9\n",
        "print(n,'binary',format(n,'b'))\n",
        "print(n,'* 2=',n<<1, format(n<<1,'b'))\n",
        "print(n,'/ 2=',n>>1,format(n>>1,'b'))"
      ],
      "execution_count": 0,
      "outputs": [
        {
          "output_type": "stream",
          "text": [
            "9 binary 1001\n",
            "9 * 2= 18 10010\n",
            "9 / 2= 4 100\n"
          ],
          "name": "stdout"
        }
      ]
    },
    {
      "cell_type": "code",
      "metadata": {
        "id": "hOfbcPTfI20z",
        "colab_type": "code",
        "outputId": "03254595-0cd5-4a5c-8c0d-7027bc9687ae",
        "colab": {
          "base_uri": "https://localhost:8080/",
          "height": 67
        }
      },
      "source": [
        "# logical\n",
        "x = True\n",
        "y = False\n",
        "print('x and y is',x and y) # Output: x and y is False\n",
        "print('x or y is',x or y) # Output: x or y is True\n",
        "print('not x is',not x) # Output: not x is False"
      ],
      "execution_count": 0,
      "outputs": [
        {
          "output_type": "stream",
          "text": [
            "x and y is False\n",
            "x or y is True\n",
            "not x is False\n"
          ],
          "name": "stdout"
        }
      ]
    },
    {
      "cell_type": "code",
      "metadata": {
        "id": "E2KTfuWkJCko",
        "colab_type": "code",
        "outputId": "5e05f53f-3d4f-4fc4-d55f-ce92a63574b2",
        "colab": {
          "base_uri": "https://localhost:8080/",
          "height": 67
        }
      },
      "source": [
        "# bitwise\n",
        "x=12 \n",
        "y=4 \n",
        "print(x & y) \n",
        "print(x | y)\n",
        "print(x ^ y)"
      ],
      "execution_count": 0,
      "outputs": [
        {
          "output_type": "stream",
          "text": [
            "4\n",
            "12\n",
            "8\n"
          ],
          "name": "stdout"
        }
      ]
    },
    {
      "cell_type": "code",
      "metadata": {
        "id": "OJSPBAClJH1-",
        "colab_type": "code",
        "outputId": "36485b95-7a13-482a-e75b-cd18b8e91d8a",
        "colab": {
          "base_uri": "https://localhost:8080/",
          "height": 50
        }
      },
      "source": [
        "# in and not in\n",
        "\n",
        "x = 'Hello world'\n",
        "print('H' in x)    # Output: True\n",
        "print('h' not in x)   # Output: True"
      ],
      "execution_count": 0,
      "outputs": [
        {
          "output_type": "stream",
          "text": [
            "True\n",
            "True\n"
          ],
          "name": "stdout"
        }
      ]
    },
    {
      "cell_type": "code",
      "metadata": {
        "id": "O_61FkNnJMno",
        "colab_type": "code",
        "outputId": "23dff592-74a1-45d0-cc43-0f4d17a3204b",
        "colab": {
          "base_uri": "https://localhost:8080/",
          "height": 84
        }
      },
      "source": [
        "# perform operations on complex numbers\n",
        "\n",
        "import cmath\n",
        "a=complex(20+5j)\n",
        "b=complex(5+3j)\n",
        "print('a+b',a+b)\n",
        "print('a-b',a-b)\n",
        "print('a*b',a*b)\n",
        "print('a/b',a/b)"
      ],
      "execution_count": 0,
      "outputs": [
        {
          "output_type": "stream",
          "text": [
            "a+b (25+8j)\n",
            "a-b (15+2j)\n",
            "a*b (85+85j)\n",
            "a/b (3.3823529411764706-1.0294117647058825j)\n"
          ],
          "name": "stdout"
        }
      ]
    },
    {
      "cell_type": "markdown",
      "metadata": {
        "id": "gKxCJZOtJQQd",
        "colab_type": "text"
      },
      "source": [
        "Task1 Write a program in python to calculate area of triangle when all three sides are given.\n",
        "s=(a+b+c)/2\n",
        "area = √(s(s-a)(s-b)(s-c) )"
      ]
    },
    {
      "cell_type": "code",
      "metadata": {
        "id": "MTw1AQecJRaK",
        "colab_type": "code",
        "outputId": "5491c094-c39e-44d8-d5ce-12e94583fff3",
        "colab": {
          "base_uri": "https://localhost:8080/",
          "height": 84
        }
      },
      "source": [
        "# write your code after this line\n",
        "import math\n",
        "s1=int(input(\"Enter side1 of triangle\"))\n",
        "s2=int(input(\"Enter side2 of triangle\"))\n",
        "s3=int(input(\"Enter side3 of triangle\"))\n",
        "s=(s1+s2+s3)/2\n",
        "area=(s*(s-s1)*(s-s2)*(s-s3))\n",
        "areaf=math.sqrt(area)\n",
        "print(areaf)"
      ],
      "execution_count": 0,
      "outputs": [
        {
          "output_type": "stream",
          "text": [
            "Enter side1 of triangle1\n",
            "Enter side2 of triangle1\n",
            "Enter side3 of triangle1\n",
            "0.4330127018922193\n"
          ],
          "name": "stdout"
        }
      ]
    },
    {
      "cell_type": "markdown",
      "metadata": {
        "id": "qPM6CraWKYTY",
        "colab_type": "text"
      },
      "source": [
        "Control Statements\n",
        "Decisions (if-else)\n",
        "simple if-else\n",
        "if(cond): stmt else: stmt\n",
        "\n",
        "if-else-if\n",
        "if(cond): stmt elif(cond): stmt . . . else: stmt\n",
        "\n",
        "nested if-else\n",
        "                        if(cond):\n",
        "                            stmt\n",
        "                            if(cond):\n",
        "                                stmt1\n",
        "                        else:\n",
        "                            if(cond):\n",
        "                                stmt3\n",
        "                            else:\n",
        "                                stmt4"
      ]
    },
    {
      "cell_type": "markdown",
      "metadata": {
        "id": "3p4ZTm0UKdPw",
        "colab_type": "text"
      },
      "source": [
        "**Task2: Write a program that accept a lowercase/uppercase character from the user and check whether the character is a vowel or consonant. **"
      ]
    },
    {
      "cell_type": "code",
      "metadata": {
        "id": "8vgQQFK9Kf47",
        "colab_type": "code",
        "outputId": "22e6b441-2fe0-45a7-c67e-c10217237d6d",
        "colab": {
          "base_uri": "https://localhost:8080/",
          "height": 50
        }
      },
      "source": [
        "# write your code after this line\n",
        "ch=input(\"Enter a letter \")\n",
        "if(ch == 'a' or ch == 'e' or ch == 'i' or ch == 'o' or ch == 'u' or ch == 'A'\n",
        "       or ch == 'E' or ch == 'I' or ch == 'O' or ch == 'U'):\n",
        "  print(\"Character entered is Vowel \")\n",
        "else:\n",
        "  print(\"Character is consonant \")"
      ],
      "execution_count": 0,
      "outputs": [
        {
          "output_type": "stream",
          "text": [
            "Enter a letter m\n",
            "Character is consonant \n"
          ],
          "name": "stdout"
        }
      ]
    },
    {
      "cell_type": "markdown",
      "metadata": {
        "id": "NvJVLH55LCD_",
        "colab_type": "text"
      },
      "source": [
        "**Task3: Write a program to check whether given character is a digit or a character in lowercase or uppercase alphabet. Hint: ASCII value of digit is between 48 to 58 and Lowercase characters in the range of 97 to122, uppercase is between 65 and 90).¶**"
      ]
    },
    {
      "cell_type": "code",
      "metadata": {
        "id": "i-CDM3B4LFoX",
        "colab_type": "code",
        "outputId": "52785fa3-9b0e-4b3a-ccb2-f4c0ae52673c",
        "colab": {
          "base_uri": "https://localhost:8080/",
          "height": 50
        }
      },
      "source": [
        "ch=input(\"Enter\")\n",
        "if ch.isupper():\n",
        "  print(\"Upper case letter\")\n",
        "else:\n",
        "  print(\"Lower case\")"
      ],
      "execution_count": 0,
      "outputs": [
        {
          "output_type": "stream",
          "text": [
            "EnterV\n",
            "Upper case letter\n"
          ],
          "name": "stdout"
        }
      ]
    },
    {
      "cell_type": "markdown",
      "metadata": {
        "id": "ivKtAVCuLS4T",
        "colab_type": "text"
      },
      "source": [
        "Repetition or loop\n",
        "while loop\n",
        "for loop\n",
        "While loop\n",
        "initialization of loop variable while( condition ): stmt 1 stmt 2 ... update loop variable"
      ]
    },
    {
      "cell_type": "markdown",
      "metadata": {
        "id": "KYsU1VUgLhHY",
        "colab_type": "text"
      },
      "source": [
        "**Task 4: Write a program in Python to print table of any number 'n' provided by user using while loop.**"
      ]
    },
    {
      "cell_type": "code",
      "metadata": {
        "id": "mrz3i5ZELvk3",
        "colab_type": "code",
        "outputId": "320231b4-c2e2-447d-aa69-d99f95269185",
        "colab": {
          "base_uri": "https://localhost:8080/",
          "height": 202
        }
      },
      "source": [
        "# write your code after this line\n",
        "n=int(input(\"Enter a number\"))\n",
        "i=1\n",
        "while(i<=10):\n",
        "  print(f\"{n}x{i}={n*i}\")\n",
        "  i+=1"
      ],
      "execution_count": 0,
      "outputs": [
        {
          "output_type": "stream",
          "text": [
            "Enter a number7\n",
            "7x1=7\n",
            "7x2=14\n",
            "7x3=21\n",
            "7x4=28\n",
            "7x5=35\n",
            "7x6=42\n",
            "7x7=49\n",
            "7x8=56\n",
            "7x9=63\n",
            "7x10=70\n"
          ],
          "name": "stdout"
        }
      ]
    },
    {
      "cell_type": "markdown",
      "metadata": {
        "id": "vu5znyimL3R3",
        "colab_type": "text"
      },
      "source": [
        "Task 5: Write a program in Python to evaluate the following series using while loop:\n",
        "1! + 2! + 3! + 4! ...+ n!\n",
        "hint: use math.factorial(n) function to calculate factorial of number n. "
      ]
    },
    {
      "cell_type": "code",
      "metadata": {
        "id": "2fWjbspMMLd-",
        "colab_type": "code",
        "outputId": "a96e13f6-e2bd-433f-a031-692a1a1d7dad",
        "colab": {
          "base_uri": "https://localhost:8080/",
          "height": 50
        }
      },
      "source": [
        "# write your code after this line\n",
        "import math\n",
        "n=int(input(\"Enter a number\"))\n",
        "print(math.factorial(n))"
      ],
      "execution_count": 0,
      "outputs": [
        {
          "output_type": "stream",
          "text": [
            "Enter a number18\n",
            "6402373705728000\n"
          ],
          "name": "stdout"
        }
      ]
    },
    {
      "cell_type": "markdown",
      "metadata": {
        "id": "WDi2P1TTMgdT",
        "colab_type": "text"
      },
      "source": [
        "**Task 6: Write a program in Python to enter the numbers till the user wants and at the end it should display the maximum number entered using while loop.¶**"
      ]
    },
    {
      "cell_type": "code",
      "metadata": {
        "id": "sNjpzjGOMkNu",
        "colab_type": "code",
        "outputId": "f853b551-706c-405e-c7b1-ea5350a6667b",
        "colab": {
          "base_uri": "https://localhost:8080/",
          "height": 134
        }
      },
      "source": [
        "# write your code after this line\n",
        "t=int(input(\"Enter the count of numbers you want to enter\"))\n",
        "n=1\n",
        "a=[]\n",
        "while(n<=t):\n",
        "  en=int(input(\"Enter a number\"))\n",
        "  a.append(en)\n",
        "  n=n+1\n",
        "print(max(a))"
      ],
      "execution_count": 0,
      "outputs": [
        {
          "output_type": "stream",
          "text": [
            "Enter the count of numbers you want to enter5\n",
            "Enter a number2\n",
            "Enter a number3\n",
            "Enter a number7\n",
            "Enter a number1\n",
            "Enter a number100\n",
            "100\n"
          ],
          "name": "stdout"
        }
      ]
    },
    {
      "cell_type": "markdown",
      "metadata": {
        "id": "yNXIcZOaNVM_",
        "colab_type": "text"
      },
      "source": [
        "**for loop¶**\n",
        "for iterable_var_name in range(terminating_value): stmt 1 stmt 2 ...\n",
        "\n",
        "for iterable_var_name in range(initial_value,terminating_value): stmt 1 stmt 2 ...\n",
        "\n",
        "for iterable_var_name in range(initial_value,terminating_value,updation): stmt 1 stmt 2 ... "
      ]
    },
    {
      "cell_type": "code",
      "metadata": {
        "id": "LvyvsMLlNjbH",
        "colab_type": "code",
        "outputId": "4f948560-63bf-4270-adf1-7be8a3893b65",
        "colab": {
          "base_uri": "https://localhost:8080/",
          "height": 50
        }
      },
      "source": [
        "# factorial\n",
        "n=int(input('Enter a number '))\n",
        "fact=1\n",
        "for i in range(n,1,-1):\n",
        "    fact=fact*i\n",
        "print(n,'! =',fact)"
      ],
      "execution_count": 0,
      "outputs": [
        {
          "output_type": "stream",
          "text": [
            "Enter a number 7\n",
            "7 ! = 5040\n"
          ],
          "name": "stdout"
        }
      ]
    },
    {
      "cell_type": "markdown",
      "metadata": {
        "id": "MaqZI7zLN-A0",
        "colab_type": "text"
      },
      "source": [
        "**Task 7:Write a program in Python to print all numbers from 0 to 9 except 3 and 6 using a for loop.¶**"
      ]
    },
    {
      "cell_type": "code",
      "metadata": {
        "id": "8GFz_W3WN_9F",
        "colab_type": "code",
        "outputId": "da288be7-abb5-4c4b-d9c8-b9e9fcff119d",
        "colab": {
          "base_uri": "https://localhost:8080/",
          "height": 151
        }
      },
      "source": [
        "# write your code after this line\n",
        "a=[3,6]\n",
        "for i in range(10):\n",
        "  if i not in a:\n",
        "    print(i)"
      ],
      "execution_count": 0,
      "outputs": [
        {
          "output_type": "stream",
          "text": [
            "0\n",
            "1\n",
            "2\n",
            "4\n",
            "5\n",
            "7\n",
            "8\n",
            "9\n"
          ],
          "name": "stdout"
        }
      ]
    },
    {
      "cell_type": "markdown",
      "metadata": {
        "id": "rl0Y6Cg0OHMy",
        "colab_type": "text"
      },
      "source": [
        "**2 Write a program in Python to get 10 numbers from user using a for loop. The program should print the count of positive numbers, negative numbers and zeroes entered by the user.¶**"
      ]
    },
    {
      "cell_type": "code",
      "metadata": {
        "id": "PQaxd0jAOJ0t",
        "colab_type": "code",
        "outputId": "8eb611be-98ee-4a6d-fc3f-810ae278f5f4",
        "colab": {
          "base_uri": "https://localhost:8080/",
          "height": 202
        }
      },
      "source": [
        "l=[]\n",
        "pos=0\n",
        "neg=0\n",
        "zer=0\n",
        "for i in range(10):\n",
        "  a=int(input(\"Enter a number\"))\n",
        "  if a>0:\n",
        "    pos+=1\n",
        "  if a<0:\n",
        "    neg+=1\n",
        "  if a==0:\n",
        "    zer+=1\n",
        "print(\"Positives are {0} Negatives are {1} Zeroes are {2}\".format(pos,neg,zer))"
      ],
      "execution_count": 0,
      "outputs": [
        {
          "output_type": "stream",
          "text": [
            "Enter a number5\n",
            "Enter a number-2\n",
            "Enter a number9\n",
            "Enter a number1\n",
            "Enter a number1\n",
            "Enter a number-88\n",
            "Enter a number33\n",
            "Enter a number-9\n",
            "Enter a number-7\n",
            "Enter a number2\n",
            "Positives are 6 Negatives are 4 Zeroes are 0\n"
          ],
          "name": "stdout"
        }
      ]
    }
  ]
}