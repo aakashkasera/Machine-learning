{
  "nbformat": 4,
  "nbformat_minor": 0,
  "metadata": {
    "colab": {
      "name": "Python Basics-2.ipynb",
      "provenance": [],
      "include_colab_link": true
    },
    "kernelspec": {
      "name": "python3",
      "display_name": "Python 3"
    }
  },
  "cells": [
    {
      "cell_type": "markdown",
      "metadata": {
        "id": "view-in-github",
        "colab_type": "text"
      },
      "source": [
        "<a href=\"https://colab.research.google.com/github/aakashkasera/Machine-learning/blob/master/Python_Basics_2.ipynb\" target=\"_parent\"><img src=\"https://colab.research.google.com/assets/colab-badge.svg\" alt=\"Open In Colab\"/></a>"
      ]
    },
    {
      "cell_type": "markdown",
      "metadata": {
        "id": "D6aK63mAPfGZ",
        "colab_type": "text"
      },
      "source": [
        "**print() function¶**"
      ]
    },
    {
      "cell_type": "code",
      "metadata": {
        "id": "bkHZGxbzPktv",
        "colab_type": "code",
        "outputId": "06cbfbb6-1f18-49cb-e68e-7609d4f10ffb",
        "colab": {
          "base_uri": "https://localhost:8080/",
          "height": 34
        }
      },
      "source": [
        "# First Program\n",
        "print(\"acropolis\")"
      ],
      "execution_count": 0,
      "outputs": [
        {
          "output_type": "stream",
          "text": [
            "acropolis\n"
          ],
          "name": "stdout"
        }
      ]
    },
    {
      "cell_type": "markdown",
      "metadata": {
        "id": "mZIFiarZPv7F",
        "colab_type": "text"
      },
      "source": [
        "Comments\n",
        "\n",
        "Variables "
      ]
    },
    {
      "cell_type": "code",
      "metadata": {
        "id": "y5qSrrrzQFFX",
        "colab_type": "code",
        "outputId": "0f12b0c1-c660-4107-cdeb-f71860882378",
        "colab": {
          "base_uri": "https://localhost:8080/",
          "height": 34
        }
      },
      "source": [
        "# In Python there is no need to mention the data type\n",
        "\n",
        "var1 = 20      # An integer assignment\n",
        "var2 = 4.123   # A floating point\n",
        "var3 = \"India\" # A string\n",
        "\n",
        "print(var1,' ',var2,' ',var3)"
      ],
      "execution_count": 0,
      "outputs": [
        {
          "output_type": "stream",
          "text": [
            "20   4.123   India\n"
          ],
          "name": "stdout"
        }
      ]
    },
    {
      "cell_type": "markdown",
      "metadata": {
        "id": "Gj0cFKhyQMaJ",
        "colab_type": "text"
      },
      "source": [
        "**Assignment¶**"
      ]
    },
    {
      "cell_type": "code",
      "metadata": {
        "id": "aEXCal7bQOqk",
        "colab_type": "code",
        "outputId": "4207033e-692c-47a5-ec93-da2f146d2851",
        "colab": {
          "base_uri": "https://localhost:8080/",
          "height": 50
        }
      },
      "source": [
        "# general syntax\n",
        "#variable-name=value\n",
        "\n",
        "# Assigning same value to multiple variables\n",
        "\n",
        "var1 = var2 = var3 = 1\n",
        "print(var1,' ',var2,' ',var3)\n",
        "\n",
        "# Assigning Different values to variable in a single expression\n",
        "\n",
        "var1, var2, var3 = 1, 2.5, \"rupal\"\n",
        "print(var1,' ',var2,' ',var3)\n",
        "\n",
        "# Note: commas can be used for multi-assignments"
      ],
      "execution_count": 0,
      "outputs": [
        {
          "output_type": "stream",
          "text": [
            "1   1   1\n",
            "1   2.5   rupal\n"
          ],
          "name": "stdout"
        }
      ]
    },
    {
      "cell_type": "markdown",
      "metadata": {
        "id": "y9dl3xRmQXjy",
        "colab_type": "text"
      },
      "source": [
        "**Taking input¶**"
      ]
    },
    {
      "cell_type": "code",
      "metadata": {
        "id": "AH5UeoKeQey7",
        "colab_type": "code",
        "outputId": "0c3c2867-6d1a-4220-e3c0-9283a2ca310f",
        "colab": {
          "base_uri": "https://localhost:8080/",
          "height": 67
        }
      },
      "source": [
        "firstname = input(\"Enter your first name: \")\n",
        "lastname = input(\"Enter your second name: \")\n",
        "semester = input(\"Enter your semester: \")"
      ],
      "execution_count": 0,
      "outputs": [
        {
          "output_type": "stream",
          "text": [
            "Enter your first name: Aishwarya\n",
            "Enter your second name: Pawar\n",
            "Enter your semester: 6\n"
          ],
          "name": "stdout"
        }
      ]
    },
    {
      "cell_type": "code",
      "metadata": {
        "id": "Ba57BuKyP7CF",
        "colab_type": "code",
        "outputId": "19a01540-9080-44d1-9912-0f199eb037d9",
        "colab": {
          "base_uri": "https://localhost:8080/",
          "height": 50
        }
      },
      "source": [
        "age = input(\"Enter your age: \")\n",
        "age = int(age)+5\n",
        "print(age)"
      ],
      "execution_count": 0,
      "outputs": [
        {
          "output_type": "stream",
          "text": [
            "Enter your age: 20\n",
            "25\n"
          ],
          "name": "stdout"
        }
      ]
    },
    {
      "cell_type": "markdown",
      "metadata": {
        "id": "0iV3Fuv6QzMS",
        "colab_type": "text"
      },
      "source": [
        "**Write a program in Python for data type conversion from:¶**\n",
        "int to float\n",
        "string to int\n",
        "string to float\n",
        "float to int\n",
        "float to string "
      ]
    },
    {
      "cell_type": "code",
      "metadata": {
        "id": "Rowv0Hl0RNQO",
        "colab_type": "code",
        "outputId": "1aa8e358-0c49-4b29-bc49-ed7700807ee6",
        "colab": {
          "base_uri": "https://localhost:8080/",
          "height": 118
        }
      },
      "source": [
        "a=10\n",
        "print(str(a))\n",
        "print(float(a))\n",
        "\n",
        "b='20'\n",
        "print(int(b))\n",
        "print(float(b))\n",
        "\n",
        "c=23.56\n",
        "print(int(c))\n",
        "print(str(c))"
      ],
      "execution_count": 0,
      "outputs": [
        {
          "output_type": "stream",
          "text": [
            "10\n",
            "10.0\n",
            "20\n",
            "20.0\n",
            "23\n",
            "23.56\n"
          ],
          "name": "stdout"
        }
      ]
    },
    {
      "cell_type": "markdown",
      "metadata": {
        "id": "bpWyfhKRRViY",
        "colab_type": "text"
      },
      "source": [
        "**Task1:¶**\n",
        "**WAP to display your infomation like (full name, branch, university name, age, 12th %, hobbies). Store each value into some meaningful variable. the ouptput of the program should look like¶ **"
      ]
    },
    {
      "cell_type": "code",
      "metadata": {
        "id": "mm2yJmd1Sn_j",
        "colab_type": "code",
        "outputId": "92ecc559-7abf-473a-d961-b4477b2556d0",
        "colab": {
          "base_uri": "https://localhost:8080/",
          "height": 218
        }
      },
      "source": [
        "full_name=input(\"Enter your full name: \")\n",
        "branch=input(\"Enter your branch: \")\n",
        "university=input(\"Enter your university: \")\n",
        "age=input(\"Enter your age: \")\n",
        "twelth_per=input(\"Enter your 12%: \")\n",
        "hobbies=input(\"Enter your hobbies: \")\n",
        "print(full_name)\n",
        "print(branch)\n",
        "print(university)\n",
        "print(age)\n",
        "print(twelth_per)\n",
        "print(hobbies)"
      ],
      "execution_count": 0,
      "outputs": [
        {
          "output_type": "stream",
          "text": [
            "Enter your full name: Aishwarya Pawar\n",
            "Enter your branch: CSE\n",
            "Enter your university: RGPV\n",
            "Enter your age: 21\n",
            "Enter your 12%: 90\n",
            "Enter your hobbies: Playing Volleyball\n",
            "Aishwarya Pawar\n",
            "CSE\n",
            "RGPV\n",
            "21\n",
            "90\n",
            "Playing Volleyball\n"
          ],
          "name": "stdout"
        }
      ]
    },
    {
      "cell_type": "markdown",
      "metadata": {
        "id": "QRjLwVazT06b",
        "colab_type": "text"
      },
      "source": [
        "Commmonly used functions\n",
        "round(n)\n",
        "format(n, '0.2f')\n",
        "format(n,',') # put a comma on thousand place\n",
        "format(n,'b') # print binary of the number, 'o', 'x'\n",
        "\n",
        "eval(expression)\n",
        "\n",
        "chr(n)\n",
        "ord(character)\n",
        "bin(n), oct(n), hex(n)\n",
        "\n",
        "#### function on string/character data\n",
        "\n",
        "*   isdigit()\n",
        "*   isalpha()\n",
        "*   isspace()\n",
        "*   numeric()\n",
        "*   ljust(width)\n",
        "*   rjust(width)\n",
        "*   cjust(width)\n",
        "\n",
        "\n",
        "\n",
        "\n",
        "\n",
        "\n",
        "\n"
      ]
    },
    {
      "cell_type": "code",
      "metadata": {
        "id": "vdYAdMLtUqsh",
        "colab_type": "code",
        "outputId": "98f8ba5f-e0ea-4184-e12f-75d12c6073ee",
        "colab": {
          "base_uri": "https://localhost:8080/",
          "height": 67
        }
      },
      "source": [
        "# Python3 program to demonstarte \n",
        "# the str.format() method \n",
        "  \n",
        "# using format option in a simple string \n",
        "print (\"{}, A computer science portal for acropolis.\"\n",
        "                        .format(\"acropolis\")) \n",
        "  \n",
        "# using format option for a \n",
        "# value stored in a variable \n",
        "str = \"This article is written in {}\"\n",
        "print (str.format(\"Python\")) \n",
        "  \n",
        "# formatting a string using a numeric constant \n",
        "print (\"Hello, I am {} years old !\".format(20))"
      ],
      "execution_count": 0,
      "outputs": [
        {
          "output_type": "stream",
          "text": [
            "acropolis, A computer science portal for acropolis.\n",
            "This article is written in Python\n",
            "Hello, I am 20 years old !\n"
          ],
          "name": "stdout"
        }
      ]
    },
    {
      "cell_type": "code",
      "metadata": {
        "id": "MUTGStsNU1j5",
        "colab_type": "code",
        "outputId": "d1ed0f8b-08c6-4410-9f2f-1072b1f7ca5d",
        "colab": {
          "base_uri": "https://localhost:8080/",
          "height": 50
        }
      },
      "source": [
        "# Characters and their ASCII value\n",
        "\n",
        "x=68\n",
        "# print character corresponding to x \n",
        "print(chr(x))\n",
        "char='D'\n",
        "# print number corresponding to char\n",
        "print(ord(char))"
      ],
      "execution_count": 0,
      "outputs": [
        {
          "output_type": "stream",
          "text": [
            "D\n",
            "68\n"
          ],
          "name": "stdout"
        }
      ]
    },
    {
      "cell_type": "code",
      "metadata": {
        "id": "4uXzQCyYU7dZ",
        "colab_type": "code",
        "outputId": "ad8da948-2ba2-439c-dc2c-caaeaffed849",
        "colab": {
          "base_uri": "https://localhost:8080/",
          "height": 34
        }
      },
      "source": [
        "# write code to print your name 10 times\n",
        "print('ACROPOLIS'*10)"
      ],
      "execution_count": 0,
      "outputs": [
        {
          "output_type": "stream",
          "text": [
            "ACROPOLISACROPOLISACROPOLISACROPOLISACROPOLISACROPOLISACROPOLISACROPOLISACROPOLISACROPOLIS\n"
          ],
          "name": "stdout"
        }
      ]
    },
    {
      "cell_type": "code",
      "metadata": {
        "id": "gXo4V9oNVXgP",
        "colab_type": "code",
        "outputId": "db741e5b-5ba3-49aa-92ac-4683e9adbfdd",
        "colab": {
          "base_uri": "https://localhost:8080/",
          "height": 202
        }
      },
      "source": [
        "for i in range(5):\n",
        "    print(\"*\"*i)\n",
        "\n",
        "# new pattern program\n",
        "print(\"\\n\")\n",
        "for i in range(4,0,-1):\n",
        "  print(\"*\"*i)"
      ],
      "execution_count": 0,
      "outputs": [
        {
          "output_type": "stream",
          "text": [
            "\n",
            "*\n",
            "**\n",
            "***\n",
            "****\n",
            "\n",
            "\n",
            "****\n",
            "***\n",
            "**\n",
            "*\n"
          ],
          "name": "stdout"
        }
      ]
    },
    {
      "cell_type": "code",
      "metadata": {
        "id": "buYfWUIwWiCB",
        "colab_type": "code",
        "outputId": "a65d7870-e1fd-437b-e963-627b36b6b476",
        "colab": {
          "base_uri": "https://localhost:8080/",
          "height": 101
        }
      },
      "source": [
        "for i in range(1,6):\n",
        "  print(\" \"*(6-i),\"*\"*i)"
      ],
      "execution_count": 0,
      "outputs": [
        {
          "output_type": "stream",
          "text": [
            "      *\n",
            "     **\n",
            "    ***\n",
            "   ****\n",
            "  *****\n"
          ],
          "name": "stdout"
        }
      ]
    },
    {
      "cell_type": "code",
      "metadata": {
        "id": "PqBi29-bWmHp",
        "colab_type": "code",
        "outputId": "96b4bb43-d6c8-4a00-b0a7-40281f0e278c",
        "colab": {
          "base_uri": "https://localhost:8080/",
          "height": 34
        }
      },
      "source": [
        "# use seperator and end with specific symbol\n",
        "a, b, c = 10, 20, 30\n",
        "print(a,b,c,sep=':',end=',')"
      ],
      "execution_count": 0,
      "outputs": [
        {
          "output_type": "stream",
          "text": [
            "10:20:30,"
          ],
          "name": "stdout"
        }
      ]
    },
    {
      "cell_type": "code",
      "metadata": {
        "id": "vTX31NPPWpQo",
        "colab_type": "code",
        "outputId": "e2a36601-380c-4e3c-f859-f07547eb56a6",
        "colab": {
          "base_uri": "https://localhost:8080/",
          "height": 84
        }
      },
      "source": [
        "for i in range(1,5):\n",
        "    print(\" \"*(5-i),\"*\"*i)"
      ],
      "execution_count": 0,
      "outputs": [
        {
          "output_type": "stream",
          "text": [
            "     *\n",
            "    **\n",
            "   ***\n",
            "  ****\n"
          ],
          "name": "stdout"
        }
      ]
    },
    {
      "cell_type": "code",
      "metadata": {
        "id": "KkZqgn1JWxoC",
        "colab_type": "code",
        "outputId": "de03cf94-afcb-446a-d998-015f015a0b6b",
        "colab": {
          "base_uri": "https://localhost:8080/",
          "height": 34
        }
      },
      "source": [
        "# unpack characters\n",
        "word = 'PYTHONG'\n",
        "a,b,c,d,e,f,g = word\n",
        "print(a,b,c,d,e,f,g)"
      ],
      "execution_count": 0,
      "outputs": [
        {
          "output_type": "stream",
          "text": [
            "P Y T H O N G\n"
          ],
          "name": "stdout"
        }
      ]
    },
    {
      "cell_type": "markdown",
      "metadata": {
        "id": "LyisFjhsW0-D",
        "colab_type": "text"
      },
      "source": [
        "**Format output¶**"
      ]
    },
    {
      "cell_type": "code",
      "metadata": {
        "id": "Tnioedr_W4WB",
        "colab_type": "code",
        "outputId": "4145d559-2b4a-4596-af9c-d05db681498f",
        "colab": {
          "base_uri": "https://localhost:8080/",
          "height": 34
        }
      },
      "source": [
        "x = 5 \n",
        "y = 10\n",
        "print('The value of x is {} and y is {}'.format(x,y))"
      ],
      "execution_count": 0,
      "outputs": [
        {
          "output_type": "stream",
          "text": [
            "The value of x is 5 and y is 10\n"
          ],
          "name": "stdout"
        }
      ]
    },
    {
      "cell_type": "code",
      "metadata": {
        "id": "Nvwln_hQW_M7",
        "colab_type": "code",
        "outputId": "5860e9b1-3761-44da-bb0f-9c9f69225115",
        "colab": {
          "base_uri": "https://localhost:8080/",
          "height": 34
        }
      },
      "source": [
        "print('I like {0} and {1}'.format('ice cream','chocolate'))\n"
      ],
      "execution_count": 0,
      "outputs": [
        {
          "output_type": "stream",
          "text": [
            "I like ice cream and chocolate\n"
          ],
          "name": "stdout"
        }
      ]
    },
    {
      "cell_type": "code",
      "metadata": {
        "id": "ER3S0BacXCEd",
        "colab_type": "code",
        "outputId": "fb28ff36-9a32-4ec6-a509-6d71dfe5169f",
        "colab": {
          "base_uri": "https://localhost:8080/",
          "height": 34
        }
      },
      "source": [
        "print('I like {1} and {0}'.format('ice cream','chocolate'))\n"
      ],
      "execution_count": 0,
      "outputs": [
        {
          "output_type": "stream",
          "text": [
            "I like chocolate and ice cream\n"
          ],
          "name": "stdout"
        }
      ]
    },
    {
      "cell_type": "code",
      "metadata": {
        "id": "vwCxSIqcXE6I",
        "colab_type": "code",
        "outputId": "0d7f2f6c-e48e-4e15-9adb-685a06125dbd",
        "colab": {
          "base_uri": "https://localhost:8080/",
          "height": 34
        }
      },
      "source": [
        "print('Hello {name}, {greeting}'.format(greeting = 'Good morning', name = 'Sachin !'))\n"
      ],
      "execution_count": 0,
      "outputs": [
        {
          "output_type": "stream",
          "text": [
            "Hello Sachin !, Good morning\n"
          ],
          "name": "stdout"
        }
      ]
    },
    {
      "cell_type": "markdown",
      "metadata": {
        "id": "WyFa5VjeXIv6",
        "colab_type": "text"
      },
      "source": [
        "\n",
        "**Task2-Raman likes tea but he has coffee. Riya likes coffee but has tea. Write a program in python so that both can enjoy what they like.¶**"
      ]
    },
    {
      "cell_type": "code",
      "metadata": {
        "id": "mAjQbQLUXPfu",
        "colab_type": "code",
        "outputId": "029da3f5-745c-40a3-8ae5-329a6769d867",
        "colab": {
          "base_uri": "https://localhost:8080/",
          "height": 34
        }
      },
      "source": [
        "raman=\"Coffe\"\n",
        "riya=\"Tea\"\n",
        "raman,riya=riya,raman\n",
        "print(f\"Raman likes {raman} and Riya likes {riya}\")"
      ],
      "execution_count": 0,
      "outputs": [
        {
          "output_type": "stream",
          "text": [
            "Raman likes Tea and Riya likes Coffe\n"
          ],
          "name": "stdout"
        }
      ]
    },
    {
      "cell_type": "markdown",
      "metadata": {
        "id": "6nOBVVwKXYVv",
        "colab_type": "text"
      },
      "source": [
        "**Task3¶**\n",
        "Write a program for following\n",
        "\n",
        "Input: 'Python'\n",
        "Output: 642"
      ]
    },
    {
      "cell_type": "code",
      "metadata": {
        "id": "8gY6kCBGXgdG",
        "colab_type": "code",
        "outputId": "d3595d40-6a57-45e5-a44e-44974fe7dc59",
        "colab": {
          "base_uri": "https://localhost:8080/",
          "height": 34
        }
      },
      "source": [
        "e,f,g,h,i,j='Python'\n",
        "s=ord(e)+ord(f)+ord(g)+ord(h)+ord(i)+ord(j)\n",
        "print(s)"
      ],
      "execution_count": 0,
      "outputs": [
        {
          "output_type": "stream",
          "text": [
            "642\n"
          ],
          "name": "stdout"
        }
      ]
    },
    {
      "cell_type": "markdown",
      "metadata": {
        "id": "VTfn81qKZ4Of",
        "colab_type": "text"
      },
      "source": [
        "**Working with math, calendar, random, datetime¶**"
      ]
    },
    {
      "cell_type": "code",
      "metadata": {
        "id": "Y0OoEgtaZ60A",
        "colab_type": "code",
        "outputId": "d006e82b-56a5-454c-a374-b0e44a59496b",
        "colab": {
          "base_uri": "https://localhost:8080/",
          "height": 84
        }
      },
      "source": [
        "import math\n",
        "print(math.sqrt(9))\n",
        "print(math.floor(10.8))\n",
        "print (math.ceil(10.5))\n",
        "math.pi\n",
        "3.0"
      ],
      "execution_count": 0,
      "outputs": [
        {
          "output_type": "stream",
          "text": [
            "3.0\n",
            "10\n",
            "11\n"
          ],
          "name": "stdout"
        },
        {
          "output_type": "execute_result",
          "data": {
            "text/plain": [
              "3.0"
            ]
          },
          "metadata": {
            "tags": []
          },
          "execution_count": 22
        }
      ]
    },
    {
      "cell_type": "code",
      "metadata": {
        "id": "HY1aeKMNaETo",
        "colab_type": "code",
        "outputId": "668e1294-abf8-467e-9ce7-4fa2a3742555",
        "colab": {
          "base_uri": "https://localhost:8080/",
          "height": 50
        }
      },
      "source": [
        "import random\n",
        "x = random.random() # generate any random number between 0 and 1\n",
        "print(\"x = \", x)\n",
        "\n",
        "y = random.randint(5,20)# generate any random number between 5 and 20\n",
        "print(\"y = \", y)"
      ],
      "execution_count": 0,
      "outputs": [
        {
          "output_type": "stream",
          "text": [
            "x =  0.09771988003123144\n",
            "y =  5\n"
          ],
          "name": "stdout"
        }
      ]
    },
    {
      "cell_type": "code",
      "metadata": {
        "id": "KHknVLOZaKPA",
        "colab_type": "code",
        "outputId": "c95b5154-a900-403a-ceb4-aa751caddaf7",
        "colab": {
          "base_uri": "https://localhost:8080/",
          "height": 84
        }
      },
      "source": [
        "import datetime\n",
        "\n",
        "date = datetime.datetime.now().date() # YYYY-MM-DD format\n",
        "year = datetime.datetime.now().year\n",
        "month = datetime.datetime.now().month\n",
        "day = datetime.datetime.now().day\n",
        "\n",
        "print(date)\n",
        "print(year)\n",
        "print(month)\n",
        "print(day)"
      ],
      "execution_count": 0,
      "outputs": [
        {
          "output_type": "stream",
          "text": [
            "2020-04-19\n",
            "2020\n",
            "4\n",
            "19\n"
          ],
          "name": "stdout"
        }
      ]
    },
    {
      "cell_type": "code",
      "metadata": {
        "id": "JYkgHLi_aSh3",
        "colab_type": "code",
        "outputId": "1e7b6846-da88-4c39-e8e1-ac82722a56df",
        "colab": {
          "base_uri": "https://localhost:8080/",
          "height": 185
        }
      },
      "source": [
        "import calendar\n",
        "\n",
        "year = int(input(\"Enter Year : \"))\n",
        "month = int(input(\"Enter the Month : \"))\n",
        "\n",
        "print(calendar.month(year, month))"
      ],
      "execution_count": 0,
      "outputs": [
        {
          "output_type": "stream",
          "text": [
            "Enter Year : 1998\n",
            "Enter the Month : 4\n",
            "     April 1998\n",
            "Mo Tu We Th Fr Sa Su\n",
            "       1  2  3  4  5\n",
            " 6  7  8  9 10 11 12\n",
            "13 14 15 16 17 18 19\n",
            "20 21 22 23 24 25 26\n",
            "27 28 29 30\n",
            "\n"
          ],
          "name": "stdout"
        }
      ]
    }
  ]
}