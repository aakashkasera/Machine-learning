{
  "nbformat": 4,
  "nbformat_minor": 0,
  "metadata": {
    "colab": {
      "name": "Untitled0.ipynb",
      "provenance": [],
      "authorship_tag": "ABX9TyN0Ul1g0uSO36wk7ErG+bq2",
      "include_colab_link": true
    },
    "kernelspec": {
      "name": "python3",
      "display_name": "Python 3"
    }
  },
  "cells": [
    {
      "cell_type": "markdown",
      "metadata": {
        "id": "view-in-github",
        "colab_type": "text"
      },
      "source": [
        "<a href=\"https://colab.research.google.com/github/aakashkasera/Machine-learning/blob/master/LinearRegression.ipynb\" target=\"_parent\"><img src=\"https://colab.research.google.com/assets/colab-badge.svg\" alt=\"Open In Colab\"/></a>"
      ]
    },
    {
      "cell_type": "code",
      "metadata": {
        "id": "YNp8rnFlwBrj",
        "colab_type": "code",
        "colab": {}
      },
      "source": [
        "class MyLinearRegression:\n",
        "    def __init__(self, weight=1, bias=2, learning_rate=0.0005,\n",
        "                 iterations=80):\n",
        "        self.weight = weight\n",
        "        self.bias = bias\n",
        "        self.learning_rate = learning_rate\n",
        "        self.iterations = iterations\n",
        "        self.cost_trend = []\n",
        "        self.cost = 0\n",
        "\n",
        "    def predict(self, x):\n",
        "        predicted_set = []\n",
        "        for i in range(len(x)):\n",
        "            predicted_value = self.weight * x[i] + self.bias\n",
        "            predicted_set.append(predicted_value)\n",
        "        return predicted_set\n",
        "\n",
        "    def cost_function(self, x, y):\n",
        "        count = len(x)\n",
        "        total_error = 0.0\n",
        "        for i in range(count):\n",
        "            total_error += (y[i] - (self.weight * x[i] +\n",
        "                            self.bias)) ** 2\n",
        "        return float(total_error) / (2 * count)\n",
        "\n",
        "    def update_weights(self, x, y):\n",
        "        weight_deriv = 0\n",
        "        bias_deriv = 0\n",
        "        count = len(x)\n",
        "\n",
        "        for i in range(count):\n",
        "            # Calculate partial derivatives\n",
        "            # -2x(y - (mx + b))\n",
        "            weight_deriv += -2 * x[i] * (y[i] -(self.weight * x[i] + self.bias))\n",
        "\n",
        "            # -2(y - (mx + b))\n",
        "            bias_deriv += -2 * (y[i] - (self.weight * x[i] +\n",
        "                                self.bias))\n",
        "\n",
        "        # We subtract because the derivatives point in direction of steepest\n",
        "        # ascent\n",
        "        self.weight -= (weight_deriv / count) * self.learning_rate\n",
        "        self.bias -= (bias_deriv / count) * self.learning_rate\n",
        "\n",
        "    def train(self, x, y):\n",
        "        for i in range(self.iterations):\n",
        "            self.update_weights(x, y)\n",
        "            # Calculating cost\n",
        "            self.cost = self.cost_function(x, y)\n",
        "            self.cost_trend.append(self.cost)\n",
        "           # if i % 10000 == 0:\n",
        "            print(\"Iteration: {}\\t Weight: {}\\t Bias: {}\\t Cost: {}\".format(i, self.weight, self.bias, self.cost))\n"
      ],
      "execution_count": 0,
      "outputs": []
    },
    {
      "cell_type": "code",
      "metadata": {
        "id": "kdGvfSYgwGiC",
        "colab_type": "code",
        "colab": {
          "base_uri": "https://localhost:8080/",
          "height": 824
        },
        "outputId": "1560a7c7-dda6-462e-d61a-0a0ceb38bf58"
      },
      "source": [
        "import pandas as pd\n",
        "import numpy as np\n",
        "import matplotlib.pyplot as plt\n",
        "# intialise data of lists. \n",
        "data = {'Hours':[2.5,5.1,3.2,8.5,3.5,1.5,9.2,5.5,8.3,2.7,7.7,5.9,4.5,3.3,1.1,8.9,2.5,1.9,6.1,7.4,2.7,4.8,3.8,6.9,7.8], \n",
        "        'Scores':[21,47,27,75,30,20,88,60,81,25,85,62,41,42,17,95,30,24,67,69,30,54,35,76,86]} \n",
        "  \n",
        "# Create DataFrame \n",
        "studentscores = pd.DataFrame(data) \n",
        "  \n",
        "# Print the output. \n",
        "studentscores"
      ],
      "execution_count": 11,
      "outputs": [
        {
          "output_type": "execute_result",
          "data": {
            "text/html": [
              "<div>\n",
              "<style scoped>\n",
              "    .dataframe tbody tr th:only-of-type {\n",
              "        vertical-align: middle;\n",
              "    }\n",
              "\n",
              "    .dataframe tbody tr th {\n",
              "        vertical-align: top;\n",
              "    }\n",
              "\n",
              "    .dataframe thead th {\n",
              "        text-align: right;\n",
              "    }\n",
              "</style>\n",
              "<table border=\"1\" class=\"dataframe\">\n",
              "  <thead>\n",
              "    <tr style=\"text-align: right;\">\n",
              "      <th></th>\n",
              "      <th>Hours</th>\n",
              "      <th>Scores</th>\n",
              "    </tr>\n",
              "  </thead>\n",
              "  <tbody>\n",
              "    <tr>\n",
              "      <th>0</th>\n",
              "      <td>2.5</td>\n",
              "      <td>21</td>\n",
              "    </tr>\n",
              "    <tr>\n",
              "      <th>1</th>\n",
              "      <td>5.1</td>\n",
              "      <td>47</td>\n",
              "    </tr>\n",
              "    <tr>\n",
              "      <th>2</th>\n",
              "      <td>3.2</td>\n",
              "      <td>27</td>\n",
              "    </tr>\n",
              "    <tr>\n",
              "      <th>3</th>\n",
              "      <td>8.5</td>\n",
              "      <td>75</td>\n",
              "    </tr>\n",
              "    <tr>\n",
              "      <th>4</th>\n",
              "      <td>3.5</td>\n",
              "      <td>30</td>\n",
              "    </tr>\n",
              "    <tr>\n",
              "      <th>5</th>\n",
              "      <td>1.5</td>\n",
              "      <td>20</td>\n",
              "    </tr>\n",
              "    <tr>\n",
              "      <th>6</th>\n",
              "      <td>9.2</td>\n",
              "      <td>88</td>\n",
              "    </tr>\n",
              "    <tr>\n",
              "      <th>7</th>\n",
              "      <td>5.5</td>\n",
              "      <td>60</td>\n",
              "    </tr>\n",
              "    <tr>\n",
              "      <th>8</th>\n",
              "      <td>8.3</td>\n",
              "      <td>81</td>\n",
              "    </tr>\n",
              "    <tr>\n",
              "      <th>9</th>\n",
              "      <td>2.7</td>\n",
              "      <td>25</td>\n",
              "    </tr>\n",
              "    <tr>\n",
              "      <th>10</th>\n",
              "      <td>7.7</td>\n",
              "      <td>85</td>\n",
              "    </tr>\n",
              "    <tr>\n",
              "      <th>11</th>\n",
              "      <td>5.9</td>\n",
              "      <td>62</td>\n",
              "    </tr>\n",
              "    <tr>\n",
              "      <th>12</th>\n",
              "      <td>4.5</td>\n",
              "      <td>41</td>\n",
              "    </tr>\n",
              "    <tr>\n",
              "      <th>13</th>\n",
              "      <td>3.3</td>\n",
              "      <td>42</td>\n",
              "    </tr>\n",
              "    <tr>\n",
              "      <th>14</th>\n",
              "      <td>1.1</td>\n",
              "      <td>17</td>\n",
              "    </tr>\n",
              "    <tr>\n",
              "      <th>15</th>\n",
              "      <td>8.9</td>\n",
              "      <td>95</td>\n",
              "    </tr>\n",
              "    <tr>\n",
              "      <th>16</th>\n",
              "      <td>2.5</td>\n",
              "      <td>30</td>\n",
              "    </tr>\n",
              "    <tr>\n",
              "      <th>17</th>\n",
              "      <td>1.9</td>\n",
              "      <td>24</td>\n",
              "    </tr>\n",
              "    <tr>\n",
              "      <th>18</th>\n",
              "      <td>6.1</td>\n",
              "      <td>67</td>\n",
              "    </tr>\n",
              "    <tr>\n",
              "      <th>19</th>\n",
              "      <td>7.4</td>\n",
              "      <td>69</td>\n",
              "    </tr>\n",
              "    <tr>\n",
              "      <th>20</th>\n",
              "      <td>2.7</td>\n",
              "      <td>30</td>\n",
              "    </tr>\n",
              "    <tr>\n",
              "      <th>21</th>\n",
              "      <td>4.8</td>\n",
              "      <td>54</td>\n",
              "    </tr>\n",
              "    <tr>\n",
              "      <th>22</th>\n",
              "      <td>3.8</td>\n",
              "      <td>35</td>\n",
              "    </tr>\n",
              "    <tr>\n",
              "      <th>23</th>\n",
              "      <td>6.9</td>\n",
              "      <td>76</td>\n",
              "    </tr>\n",
              "    <tr>\n",
              "      <th>24</th>\n",
              "      <td>7.8</td>\n",
              "      <td>86</td>\n",
              "    </tr>\n",
              "  </tbody>\n",
              "</table>\n",
              "</div>"
            ],
            "text/plain": [
              "    Hours  Scores\n",
              "0     2.5      21\n",
              "1     5.1      47\n",
              "2     3.2      27\n",
              "3     8.5      75\n",
              "4     3.5      30\n",
              "5     1.5      20\n",
              "6     9.2      88\n",
              "7     5.5      60\n",
              "8     8.3      81\n",
              "9     2.7      25\n",
              "10    7.7      85\n",
              "11    5.9      62\n",
              "12    4.5      41\n",
              "13    3.3      42\n",
              "14    1.1      17\n",
              "15    8.9      95\n",
              "16    2.5      30\n",
              "17    1.9      24\n",
              "18    6.1      67\n",
              "19    7.4      69\n",
              "20    2.7      30\n",
              "21    4.8      54\n",
              "22    3.8      35\n",
              "23    6.9      76\n",
              "24    7.8      86"
            ]
          },
          "metadata": {
            "tags": []
          },
          "execution_count": 11
        }
      ]
    },
    {
      "cell_type": "code",
      "metadata": {
        "id": "CYoATRZ2wLJA",
        "colab_type": "code",
        "colab": {
          "base_uri": "https://localhost:8080/",
          "height": 279
        },
        "outputId": "fa1ec3f3-ffb6-456a-daec-78b24688e05d"
      },
      "source": [
        "x=[2.5,5.1,3.2,8.5,3.5,1.5,9.2,5.5,8.3,2.7,7.7,5.9,4.5,3.3,1.1,8.9,2.5,1.9,6.1,7.4,2.7,4.8,3.8,6.9,7.8] \n",
        "y=[21,47,27,75,30,20,88,60,81,25,85,62,41,42,17,95,30,24,67,69,30,54,35,76,86]\n",
        "plt.scatter(x,y,s=10)\n",
        "plt.xlabel('x')\n",
        "plt.ylabel('y')\n",
        "plt.show()"
      ],
      "execution_count": 12,
      "outputs": [
        {
          "output_type": "display_data",
          "data": {
            "image/png": "[encoded data removed]",
            "text/plain": [
              "<Figure size 432x288 with 1 Axes>"
            ]
          },
          "metadata": {
            "tags": [],
            "needs_background": "light"
          }
        }
      ]
    },
    {
      "cell_type": "code",
      "metadata": {
        "id": "Uk4b66NowRec",
        "colab_type": "code",
        "colab": {
          "base_uri": "https://localhost:8080/",
          "height": 476
        },
        "outputId": "082953d8-1d29-4aeb-b437-01fe87312ec6"
      },
      "source": [
        "#from my_linear_regression import MyLinearRegression\n",
        "import matplotlib.pyplot as plt\n",
        "import pandas as pd\n",
        "from sklearn.model_selection import train_test_split\n",
        "\n",
        "# Importing the dataset\n",
        "\n",
        "X = studentscores.iloc[:, :-1].values\n",
        "y = studentscores.iloc[:, -1].values\n",
        "X,y   "
      ],
      "execution_count": 13,
      "outputs": [
        {
          "output_type": "execute_result",
          "data": {
            "text/plain": [
              "(array([[2.5],\n",
              "        [5.1],\n",
              "        [3.2],\n",
              "        [8.5],\n",
              "        [3.5],\n",
              "        [1.5],\n",
              "        [9.2],\n",
              "        [5.5],\n",
              "        [8.3],\n",
              "        [2.7],\n",
              "        [7.7],\n",
              "        [5.9],\n",
              "        [4.5],\n",
              "        [3.3],\n",
              "        [1.1],\n",
              "        [8.9],\n",
              "        [2.5],\n",
              "        [1.9],\n",
              "        [6.1],\n",
              "        [7.4],\n",
              "        [2.7],\n",
              "        [4.8],\n",
              "        [3.8],\n",
              "        [6.9],\n",
              "        [7.8]]),\n",
              " array([21, 47, 27, 75, 30, 20, 88, 60, 81, 25, 85, 62, 41, 42, 17, 95, 30,\n",
              "        24, 67, 69, 30, 54, 35, 76, 86]))"
            ]
          },
          "metadata": {
            "tags": []
          },
          "execution_count": 13
        }
      ]
    },
    {
      "cell_type": "code",
      "metadata": {
        "id": "yKBNFCKUwjw2",
        "colab_type": "code",
        "colab": {
          "base_uri": "https://localhost:8080/",
          "height": 1000
        },
        "outputId": "023014f7-ff48-4fd7-cdc9-adcf04146cd1"
      },
      "source": [
        "X_train, X_test, y_train, y_test = train_test_split(X, y, test_size=1/3, random_state=0)\n",
        "\n",
        "# Fitting Simple Linear Regression to the Training set\n",
        "regressor = MyLinearRegression()\n",
        "regressor.train(X_train, y_train)\n",
        "print('Weight: ' + str(regressor.weight) + ' Bias: ' + str(regressor.bias))\n",
        "\n",
        "# Predicting the Test set results\n",
        "y_pred = regressor.predict(X_test)"
      ],
      "execution_count": 14,
      "outputs": [
        {
          "output_type": "stream",
          "text": [
            "Iteration: 0\t Weight: [1.29936125]\t Bias: [2.04635]\t Cost: 1237.9703702390707\n",
            "Iteration: 1\t Weight: [1.58825818]\t Bias: [2.09107452]\t Cost: 1154.0024404596118\n",
            "Iteration: 2\t Weight: [1.86705662]\t Bias: [2.13423038]\t Cost: 1075.8026227029018\n",
            "Iteration: 3\t Weight: [2.13610957]\t Bias: [2.17587243]\t Cost: 1002.9746808670868\n",
            "Iteration: 4\t Weight: [2.39575774]\t Bias: [2.21605358]\t Cost: 935.1495979903035\n",
            "Iteration: 5\t Weight: [2.64632988]\t Bias: [2.2548249]\t Cost: 871.9837064524005\n",
            "Iteration: 6\t Weight: [2.88814328]\t Bias: [2.29223569]\t Cost: 813.1569466210381\n",
            "Iteration: 7\t Weight: [3.12150414]\t Bias: [2.3283335]\t Cost: 758.3712451187823\n",
            "Iteration: 8\t Weight: [3.34670793]\t Bias: [2.36316423]\t Cost: 707.3490044939166\n",
            "Iteration: 9\t Weight: [3.56403981]\t Bias: [2.39677218]\t Cost: 659.8316966421762\n",
            "Iteration: 10\t Weight: [3.77377498]\t Bias: [2.4292001]\t Cost: 615.5785528523173\n",
            "Iteration: 11\t Weight: [3.97617898]\t Bias: [2.46048923]\t Cost: 574.365343838015\n",
            "Iteration: 12\t Weight: [4.17150812]\t Bias: [2.4906794]\t Cost: 535.9832435745502\n",
            "Iteration: 13\t Weight: [4.36000972]\t Bias: [2.51980902]\t Cost: 500.2377711833784\n",
            "Iteration: 14\t Weight: [4.54192244]\t Bias: [2.54791516]\t Cost: 466.94780550313783\n",
            "Iteration: 15\t Weight: [4.71747664]\t Bias: [2.5750336]\t Cost: 435.9446673539615\n",
            "Iteration: 16\t Weight: [4.88689458]\t Bias: [2.60119888]\t Cost: 407.0712648449466\n",
            "Iteration: 17\t Weight: [5.05039078]\t Bias: [2.62644431]\t Cost: 380.1812973940839\n",
            "Iteration: 18\t Weight: [5.20817226]\t Bias: [2.65080205]\t Cost: 355.13851442743714\n",
            "Iteration: 19\t Weight: [5.36043879]\t Bias: [2.67430314]\t Cost: 331.8160250014231\n",
            "Iteration: 20\t Weight: [5.50738316]\t Bias: [2.69697753]\t Cost: 310.0956548500677\n",
            "Iteration: 21\t Weight: [5.64919143]\t Bias: [2.7188541]\t Cost: 289.86734759941555\n",
            "Iteration: 22\t Weight: [5.78604314]\t Bias: [2.73996076]\t Cost: 271.02860711506474\n",
            "Iteration: 23\t Weight: [5.91811156]\t Bias: [2.76032442]\t Cost: 253.48397815721512\n",
            "Iteration: 24\t Weight: [6.04556392]\t Bias: [2.77997106]\t Cost: 237.14456271172818\n",
            "Iteration: 25\t Weight: [6.16856158]\t Bias: [2.79892574]\t Cost: 221.92756954645796\n",
            "Iteration: 26\t Weight: [6.28726026]\t Bias: [2.81721265]\t Cost: 207.75589471047115\n",
            "Iteration: 27\t Weight: [6.40181026]\t Bias: [2.83485514]\t Cost: 194.5577308505558\n",
            "Iteration: 28\t Weight: [6.5123566]\t Bias: [2.85187574]\t Cost: 182.26620336543834\n",
            "Iteration: 29\t Weight: [6.61903924]\t Bias: [2.86829618]\t Cost: 170.81903155411155\n",
            "Iteration: 30\t Weight: [6.72199325]\t Bias: [2.88413745]\t Cost: 160.1582130413226\n",
            "Iteration: 31\t Weight: [6.82134898]\t Bias: [2.8994198]\t Cost: 150.22972988121415\n",
            "Iteration: 32\t Weight: [6.91723221]\t Bias: [2.91416277]\t Cost: 140.98327484995394\n",
            "Iteration: 33\t Weight: [7.00976434]\t Bias: [2.9283852]\t Cost: 132.3719965404854\n",
            "Iteration: 34\t Weight: [7.09906252]\t Bias: [2.94210531]\t Cost: 124.3522619678026\n",
            "Iteration: 35\t Weight: [7.18523979]\t Bias: [2.95534065]\t Cost: 116.88343548187613\n",
            "Iteration: 36\t Weight: [7.26840527]\t Bias: [2.96810817]\t Cost: 109.9276728679888\n",
            "Iteration: 37\t Weight: [7.34866423]\t Bias: [2.98042422]\t Cost: 103.44972959119336\n",
            "Iteration: 38\t Weight: [7.42611828]\t Bias: [2.9923046]\t Cost: 97.41678221327304\n",
            "Iteration: 39\t Weight: [7.50086547]\t Bias: [3.00376452]\t Cost: 91.7982620773283\n",
            "Iteration: 40\t Weight: [7.57300045]\t Bias: [3.01481869]\t Cost: 86.56570041727616\n",
            "Iteration: 41\t Weight: [7.64261451]\t Bias: [3.02548129]\t Cost: 81.69258410743498\n",
            "Iteration: 42\t Weight: [7.70979579]\t Bias: [3.03576602]\t Cost: 77.15422132128325\n",
            "Iteration: 43\t Weight: [7.77462933]\t Bias: [3.04568608]\t Cost: 72.92761641868807\n",
            "Iteration: 44\t Weight: [7.83719721]\t Bias: [3.05525422]\t Cost: 68.99135342766117\n",
            "Iteration: 45\t Weight: [7.89757863]\t Bias: [3.06448275]\t Cost: 65.32548753024805\n",
            "Iteration: 46\t Weight: [7.95585002]\t Bias: [3.07338354]\t Cost: 61.91144400271167\n",
            "Iteration: 47\t Weight: [8.01208515]\t Bias: [3.08196805]\t Cost: 58.73192409794439\n",
            "Iteration: 48\t Weight: [8.06635519]\t Bias: [3.09024734]\t Cost: 55.77081739321595\n",
            "Iteration: 49\t Weight: [8.11872885]\t Bias: [3.09823206]\t Cost: 53.013120159127446\n",
            "Iteration: 50\t Weight: [8.16927243]\t Bias: [3.10593254]\t Cost: 50.444859336148205\n",
            "Iteration: 51\t Weight: [8.21804988]\t Bias: [3.11335869]\t Cost: 48.0530217335266\n",
            "Iteration: 52\t Weight: [8.26512297]\t Bias: [3.12052012]\t Cost: 45.82548809182905\n",
            "Iteration: 53\t Weight: [8.31055126]\t Bias: [3.12742608]\t Cost: 43.7509716750026\n",
            "Iteration: 54\t Weight: [8.35439225]\t Bias: [3.13408549]\t Cost: 41.81896108080941\n",
            "Iteration: 55\t Weight: [8.39670144]\t Bias: [3.14050699]\t Cost: 40.01966697985582\n",
            "Iteration: 56\t Weight: [8.43753238]\t Bias: [3.14669888]\t Cost: 38.34397251334279\n",
            "Iteration: 57\t Weight: [8.47693673]\t Bias: [3.1526692]\t Cost: 36.783387098206155\n",
            "Iteration: 58\t Weight: [8.51496438]\t Bias: [3.15842569]\t Cost: 35.33000340557771\n",
            "Iteration: 59\t Weight: [8.55166344]\t Bias: [3.16397583]\t Cost: 33.976457294578154\n",
            "Iteration: 60\t Weight: [8.58708037]\t Bias: [3.16932683]\t Cost: 32.71589049842829\n",
            "Iteration: 61\t Weight: [8.62125998]\t Bias: [3.17448565]\t Cost: 31.5419158738094\n",
            "Iteration: 62\t Weight: [8.65424553]\t Bias: [3.17945902]\t Cost: 30.448585037392778\n",
            "Iteration: 63\t Weight: [8.68607876]\t Bias: [3.18425341]\t Cost: 29.430358225553142\n",
            "Iteration: 64\t Weight: [8.71679995]\t Bias: [3.18887509]\t Cost: 28.48207622454662\n",
            "Iteration: 65\t Weight: [8.74644798]\t Bias: [3.1933301]\t Cost: 27.59893422892384\n",
            "Iteration: 66\t Weight: [8.77506036]\t Bias: [3.19762426]\t Cost: 26.776457495719555\n",
            "Iteration: 67\t Weight: [8.8026733]\t Bias: [3.20176319]\t Cost: 26.010478671059342\n",
            "Iteration: 68\t Weight: [8.82932174]\t Bias: [3.20575232]\t Cost: 25.29711667429809\n",
            "Iteration: 69\t Weight: [8.85503939]\t Bias: [3.2095969]\t Cost: 24.632757032696432\n",
            "Iteration: 70\t Weight: [8.87985879]\t Bias: [3.21330197]\t Cost: 24.014033566991984\n",
            "Iteration: 71\t Weight: [8.90381134]\t Bias: [3.21687241]\t Cost: 23.437811335066204\n",
            "Iteration: 72\t Weight: [8.92692735]\t Bias: [3.22031294]\t Cost: 22.90117074728335\n",
            "Iteration: 73\t Weight: [8.94923606]\t Bias: [3.22362808]\t Cost: 22.401392773014265\n",
            "Iteration: 74\t Weight: [8.97076569]\t Bias: [3.22682223]\t Cost: 21.93594516338668\n",
            "Iteration: 75\t Weight: [8.99154347]\t Bias: [3.22989962]\t Cost: 21.502469620453343\n",
            "Iteration: 76\t Weight: [9.0115957]\t Bias: [3.23286433]\t Cost: 21.098769847764657\n",
            "Iteration: 77\t Weight: [9.03094773]\t Bias: [3.2357203]\t Cost: 20.722800421797935\n",
            "Iteration: 78\t Weight: [9.04962403]\t Bias: [3.23847133]\t Cost: 20.372656427855578\n",
            "Iteration: 79\t Weight: [9.06764825]\t Bias: [3.24112109]\t Cost: 20.046563807917348\n",
            "Weight: [9.06764825] Bias: [3.24112109]\n"
          ],
          "name": "stdout"
        }
      ]
    },
    {
      "cell_type": "code",
      "metadata": {
        "id": "H71b_FeAwogN",
        "colab_type": "code",
        "colab": {
          "base_uri": "https://localhost:8080/",
          "height": 279
        },
        "outputId": "a0bb34f6-d634-479c-f05b-cac3721d780f"
      },
      "source": [
        "x=[int(x) for x in range(80)]\n",
        "y=regressor.cost_trend\n",
        "plt.plot(x,y)\n",
        "plt.xlabel('x')\n",
        "plt.ylabel('y')\n",
        "plt.show()"
      ],
      "execution_count": 15,
      "outputs": [
        {
          "output_type": "display_data",
          "data": {
            "image/png": "[encoded data removed]",
            "text/plain": [
              "<Figure size 432x288 with 1 Axes>"
            ]
          },
          "metadata": {
            "tags": [],
            "needs_background": "light"
          }
        }
      ]
    },
    {
      "cell_type": "code",
      "metadata": {
        "id": "81n1UlwvwsV6",
        "colab_type": "code",
        "colab": {
          "base_uri": "https://localhost:8080/",
          "height": 279
        },
        "outputId": "4be06cfb-ea4d-40eb-bc90-f466a9cb00a8"
      },
      "source": [
        "w = regressor.weight\n",
        "b = regressor.bias\n",
        "x=[2.5,5.1,3.2,8.5,3.5,1.5,9.2,5.5,8.3,2.7,7.7,5.9,4.5,3.3,1.1,8.9,2.5,1.9,6.1,7.4,2.7,4.8,3.8,6.9,7.8] \n",
        "y=[21,47,27,75,30,20,88,60,81,25,85,62,41,42,17,95,30,24,67,69,30,54,35,76,86]\n",
        "plt.scatter(x,y)\n",
        "axes = plt.gca()\n",
        "x_vals = np.array(axes.get_xlim())\n",
        "y_vals = b + w * x_vals\n",
        "plt.plot(x_vals, y_vals)\n",
        "plt.xlabel('x')\n",
        "plt.ylabel('y')\n",
        "plt.show()"
      ],
      "execution_count": 16,
      "outputs": [
        {
          "output_type": "display_data",
          "data": {
            "image/png": "[encoded data removed]",
            "text/plain": [
              "<Figure size 432x288 with 1 Axes>"
            ]
          },
          "metadata": {
            "tags": [],
            "needs_background": "light"
          }
        }
      ]
    }
  ]
}